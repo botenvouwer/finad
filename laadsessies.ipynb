{
 "cells": [
  {
   "metadata": {
    "ExecuteTime": {
     "end_time": "2025-03-24T10:39:15.831816Z",
     "start_time": "2025-03-24T10:39:15.825634Z"
    }
   },
   "cell_type": "code",
   "source": [
    "import re\n",
    "from datetime import datetime\n",
    "\n",
    "def parse_log_a(file_path):\n",
    "    tag_energy_per_month = {}\n",
    "    current_tag = None\n",
    "    session_start_meter = None\n",
    "    current_power = 0.0\n",
    "    last_time = None\n",
    "\n",
    "    with open(file_path, 'r') as file:\n",
    "        for line in file:\n",
    "            # Extract tag ID\n",
    "            tag_match = re.search(r'tag: (\\w+)', line)\n",
    "            if tag_match:\n",
    "                new_tag = tag_match.group(1)\n",
    "                if new_tag != current_tag:\n",
    "                    current_tag = new_tag\n",
    "                continue\n",
    "\n",
    "            # Extract start of new charging session\n",
    "            session_start = re.search(r'New charging session started, metervalue=(\\d+\\.\\d+)', line)\n",
    "            if session_start:\n",
    "                if session_start_meter is not None:\n",
    "                    # Calculate kWh for the previous session if it's not the first session\n",
    "                    energy = (float(session_start.group(1)) - session_start_meter) / 1000.0  # Convert to kWh\n",
    "                    month = last_time.strftime('%Y-%m')\n",
    "                    if current_tag not in tag_energy_per_month:\n",
    "                        tag_energy_per_month[current_tag] = {}\n",
    "                    if month not in tag_energy_per_month[current_tag]:\n",
    "                        tag_energy_per_month[current_tag][month] = 0\n",
    "                    tag_energy_per_month[current_tag][month] += energy\n",
    "\n",
    "                # Update the meter value for the new session\n",
    "                session_start_meter = float(session_start.group(1))\n",
    "                continue\n",
    "\n",
    "            # Extract time for tracking\n",
    "            time_match = re.search(r'(\\d{4}-\\d{2}-\\d{2}T\\d{2}:\\d{2}:\\d{2})', line)\n",
    "            if time_match:\n",
    "                last_time = datetime.strptime(time_match.group(1), '%Y-%m-%dT%H:%M:%S')\n",
    "\n",
    "    # Handle the last session if there was one\n",
    "    if session_start_meter is not None and last_time:\n",
    "        # Assuming the meter didn't change after the last session start\n",
    "        energy = 0  # Since we don't have an end meter value, we'll set it to 0 or use the last known meter value if available\n",
    "        month = last_time.strftime('%Y-%m')\n",
    "        if current_tag not in tag_energy_per_month:\n",
    "            tag_energy_per_month[current_tag] = {}\n",
    "        if month not in tag_energy_per_month[current_tag]:\n",
    "            tag_energy_per_month[current_tag][month] = 0\n",
    "        tag_energy_per_month[current_tag][month] += energy  # This will be 0 unless we have another way to estimate the energy\n",
    "\n",
    "    return tag_energy_per_month\n",
    "\n"
   ],
   "id": "e04b5d70928e1223",
   "outputs": [],
   "execution_count": 15
  },
  {
   "metadata": {
    "ExecuteTime": {
     "end_time": "2025-03-24T10:40:19.824820Z",
     "start_time": "2025-03-24T10:40:19.685303Z"
    }
   },
   "cell_type": "code",
   "source": [
    "# Path to your log file\n",
    "file_path = './data/laadsessies/NLSHOE00025967-ACE0149315-04.02.2025_15.18-04.02.2025_15.18.txt'\n",
    "\n",
    "# Parse the log\n",
    "energy_per_tag_per_month = parse_log_a(file_path)\n",
    "\n",
    "# Print results\n",
    "for tag, months in energy_per_tag_per_month.items():\n",
    "    print(f\"Tag {tag}:\")\n",
    "    for month, energy in months.items():\n",
    "        print(f\"  {month}: {energy:.3f} kWh\")\n",
    "    print()  # Add a line break for readability"
   ],
   "id": "d76bda5bb0ce2e1e",
   "outputs": [
    {
     "name": "stdout",
     "output_type": "stream",
     "text": [
      "Tag 04AE216A2C5D:\n",
      "  2024-12: 10.064 kWh\n",
      "  2025-01: 94.739 kWh\n",
      "  2025-02: 10.704 kWh\n",
      "\n",
      "Tag 04AE216A2C5:\n",
      "  2025-02: 0.000 kWh\n",
      "\n"
     ]
    }
   ],
   "execution_count": 18
  },
  {
   "metadata": {
    "ExecuteTime": {
     "end_time": "2025-03-24T10:39:31.121093Z",
     "start_time": "2025-03-24T10:39:30.977581Z"
    }
   },
   "cell_type": "code",
   "source": [
    "# Path to your log file\n",
    "file_path = './data/laadsessies/NLSHOE00025967-ACE0149315-17.03.2025_19.44-17.03.2025_19.44.txt'\n",
    "\n",
    "# Parse the log\n",
    "energy_per_tag_per_month = parse_log_a(file_path)\n",
    "\n",
    "# Print results\n",
    "for tag, months in energy_per_tag_per_month.items():\n",
    "    print(f\"Tag {tag}:\")\n",
    "    for month, energy in months.items():\n",
    "        print(f\"  {month}: {energy:.3f} kWh\")\n",
    "    print()  # Add a line break for readability"
   ],
   "id": "bab5494a2c55199a",
   "outputs": [
    {
     "name": "stdout",
     "output_type": "stream",
     "text": [
      "Tag 04AE216A2C5D:\n",
      "  2025-02: 93.531 kWh\n",
      "  2025-03: 59.518 kWh\n",
      "\n",
      "Tag 04AE216A2C5D80:\n",
      "  2025-02: 6.592 kWh\n",
      "\n",
      "Tag 04AE216A2C5:\n",
      "  2025-03: 0.000 kWh\n",
      "\n"
     ]
    }
   ],
   "execution_count": 17
  },
  {
   "metadata": {
    "ExecuteTime": {
     "end_time": "2025-03-24T10:40:41.957326Z",
     "start_time": "2025-03-24T10:40:41.951679Z"
    }
   },
   "cell_type": "code",
   "source": [
    "import re\n",
    "from datetime import datetime\n",
    "\n",
    "def parse_log(file_path):\n",
    "    # Dictionary to hold metervalues and timestamps per tag\n",
    "    tag_sessions = {}\n",
    "    # Dictionary to hold final energy per tag per month\n",
    "    tag_energy_per_month = {}\n",
    "\n",
    "    current_tag = None\n",
    "\n",
    "    with open(file_path, 'r') as file:\n",
    "        for line in file:\n",
    "            # Extract tag ID\n",
    "            tag_match = re.search(r'tag: (\\w+)', line)\n",
    "            if tag_match:\n",
    "                current_tag = tag_match.group(1)\n",
    "                if current_tag not in tag_sessions:\n",
    "                    tag_sessions[current_tag] = []\n",
    "                continue\n",
    "\n",
    "            # Extract metervalue from session start\n",
    "            metervalue_match = re.search(r'New charging session started, metervalue=(\\d+\\.\\d+)', line)\n",
    "            if metervalue_match and current_tag:\n",
    "                time_match = re.search(r'(\\d{4}-\\d{2}-\\d{2}T\\d{2}:\\d{2}:\\d{2})', line)\n",
    "                if time_match:\n",
    "                    session_time = datetime.strptime(time_match.group(1), '%Y-%m-%dT%H:%M:%S')\n",
    "                    metervalue = float(metervalue_match.group(1))\n",
    "                    tag_sessions[current_tag].append((session_time, metervalue))\n",
    "\n",
    "    # Calculate energy usage between sessions for each tag\n",
    "    for tag, sessions in tag_sessions.items():\n",
    "        if len(sessions) < 2:  # Need at least 2 sessions to calculate differences\n",
    "            continue\n",
    "\n",
    "        tag_energy_per_month[tag] = {}\n",
    "        for i in range(len(sessions) - 1):\n",
    "            start_time, start_metervalue = sessions[i]\n",
    "            end_time, end_metervalue = sessions[i + 1]\n",
    "\n",
    "            # Calculate energy in kWh (metervalues are in Wh, so divide by 1000 for kWh)\n",
    "            energy_kwh = (end_metervalue - start_metervalue) / 1000.0\n",
    "\n",
    "            # Attribute energy to the month of the start time\n",
    "            month = start_time.strftime('%Y-%m')\n",
    "            if month not in tag_energy_per_month[tag]:\n",
    "                tag_energy_per_month[tag][month] = 0\n",
    "            tag_energy_per_month[tag][month] += energy_kwh\n",
    "\n",
    "    return tag_energy_per_month\n",
    "\n"
   ],
   "id": "9833658d7c81506",
   "outputs": [],
   "execution_count": 19
  },
  {
   "metadata": {
    "ExecuteTime": {
     "end_time": "2025-03-24T10:37:28.391098Z",
     "start_time": "2025-03-24T10:37:28.366989Z"
    }
   },
   "cell_type": "code",
   "source": [
    "# Path to your log file\n",
    "file_path = './data/laadsessies/NLSHOE00025967-ACE0149315-04.02.2025_15.18-04.02.2025_15.18.txt'\n",
    "\n",
    "# Parse the log\n",
    "energy_per_tag_per_month = parse_log(file_path)\n",
    "\n",
    "# Print results\n",
    "for tag, months in energy_per_tag_per_month.items():\n",
    "    print(f\"Tag {tag}:\")\n",
    "    for month, energy in months.items():\n",
    "        print(f\"  {month}: {energy:.3f} kWh\")\n",
    "    print()  # Add a line break for readability"
   ],
   "id": "8c9d68701cf5795d",
   "outputs": [
    {
     "name": "stdout",
     "output_type": "stream",
     "text": [
      "Tag 04AE216A2C5D:\n",
      "  2024-12: 14.738 kWh\n",
      "  2025-01: 96.599 kWh\n",
      "  2025-02: 4.170 kWh\n",
      "\n"
     ]
    }
   ],
   "execution_count": 12
  },
  {
   "metadata": {
    "ExecuteTime": {
     "end_time": "2025-03-24T10:40:56.294324Z",
     "start_time": "2025-03-24T10:40:56.265953Z"
    }
   },
   "cell_type": "code",
   "source": [
    "# Path to your log file\n",
    "file_path = './data/laadsessies/NLSHOE00025967-ACE0149315-17.03.2025_19.44-17.03.2025_19.44.txt'\n",
    "\n",
    "# Parse the log\n",
    "energy_per_tag_per_month = parse_log(file_path)\n",
    "\n",
    "# Print results\n",
    "for tag, months in energy_per_tag_per_month.items():\n",
    "    print(f\"Tag {tag}:\")\n",
    "    for month, energy in months.items():\n",
    "        print(f\"  {month}: {energy:.3f} kWh\")\n",
    "    print()  # Add a line break for readability"
   ],
   "id": "3db7ed61b032d8e3",
   "outputs": [
    {
     "name": "stdout",
     "output_type": "stream",
     "text": [
      "Tag 04AE216A2C5D:\n",
      "  2025-02: 105.130 kWh\n",
      "  2025-03: 54.511 kWh\n",
      "\n"
     ]
    }
   ],
   "execution_count": 22
  },
  {
   "metadata": {
    "collapsed": true,
    "ExecuteTime": {
     "end_time": "2025-03-24T10:37:30.000637Z",
     "start_time": "2025-03-24T10:37:28.428588Z"
    }
   },
   "cell_type": "code",
   "source": [
    "import pandas as pd\n",
    "import glob\n",
    "\n",
    "path = './data/laadsessies/'\n",
    "\n",
    "all_files = glob.glob(path + \"Coolblue laadsessies *.csv\")\n",
    "\n",
    "dfs = []\n",
    "\n",
    "for filename in all_files:\n",
    "    df = pd.read_csv(filename)\n",
    "    dfs.append(df)\n",
    "\n",
    "combined_df = pd.concat(dfs, ignore_index=True)\n",
    "combined_df.to_csv(path + 'all_load_sessions.csv', index=False)\n",
    "combined_df['Starttijd'] = pd.to_datetime(combined_df['Starttijd'])\n",
    "combined_df['Month'] = combined_df['Starttijd'].dt.to_period('M')\n",
    "monthly_kWh = combined_df.groupby('Month')['Opgeladen kWh'].sum()\n",
    "monthly_kWh_formatted = monthly_kWh.apply(lambda x: f\"{x:,.3f}\".replace('.', ','))\n",
    "monthly_kWh_df = pd.DataFrame({\n",
    "    'Opgeladen kWh': monthly_kWh,\n",
    "    'Opgeladen kWh (comma)': monthly_kWh_formatted\n",
    "})\n",
    "\n",
    "monthly_kWh_df\n",
    "\n"
   ],
   "id": "initial_id",
   "outputs": [
    {
     "data": {
      "text/plain": [
       "         Opgeladen kWh Opgeladen kWh (comma)\n",
       "Month                                       \n",
       "2023-11        105.767               105,767\n",
       "2023-12        128.217               128,217\n",
       "2024-01        186.616               186,616\n",
       "2024-02        161.444               161,444\n",
       "2024-03        195.758               195,758\n",
       "2024-04        174.622               174,622\n",
       "2024-05        182.136               182,136\n",
       "2024-06        121.849               121,849\n",
       "2024-07        145.597               145,597"
      ],
      "text/html": [
       "<div>\n",
       "<style scoped>\n",
       "    .dataframe tbody tr th:only-of-type {\n",
       "        vertical-align: middle;\n",
       "    }\n",
       "\n",
       "    .dataframe tbody tr th {\n",
       "        vertical-align: top;\n",
       "    }\n",
       "\n",
       "    .dataframe thead th {\n",
       "        text-align: right;\n",
       "    }\n",
       "</style>\n",
       "<table border=\"1\" class=\"dataframe\">\n",
       "  <thead>\n",
       "    <tr style=\"text-align: right;\">\n",
       "      <th></th>\n",
       "      <th>Opgeladen kWh</th>\n",
       "      <th>Opgeladen kWh (comma)</th>\n",
       "    </tr>\n",
       "    <tr>\n",
       "      <th>Month</th>\n",
       "      <th></th>\n",
       "      <th></th>\n",
       "    </tr>\n",
       "  </thead>\n",
       "  <tbody>\n",
       "    <tr>\n",
       "      <th>2023-11</th>\n",
       "      <td>105.767</td>\n",
       "      <td>105,767</td>\n",
       "    </tr>\n",
       "    <tr>\n",
       "      <th>2023-12</th>\n",
       "      <td>128.217</td>\n",
       "      <td>128,217</td>\n",
       "    </tr>\n",
       "    <tr>\n",
       "      <th>2024-01</th>\n",
       "      <td>186.616</td>\n",
       "      <td>186,616</td>\n",
       "    </tr>\n",
       "    <tr>\n",
       "      <th>2024-02</th>\n",
       "      <td>161.444</td>\n",
       "      <td>161,444</td>\n",
       "    </tr>\n",
       "    <tr>\n",
       "      <th>2024-03</th>\n",
       "      <td>195.758</td>\n",
       "      <td>195,758</td>\n",
       "    </tr>\n",
       "    <tr>\n",
       "      <th>2024-04</th>\n",
       "      <td>174.622</td>\n",
       "      <td>174,622</td>\n",
       "    </tr>\n",
       "    <tr>\n",
       "      <th>2024-05</th>\n",
       "      <td>182.136</td>\n",
       "      <td>182,136</td>\n",
       "    </tr>\n",
       "    <tr>\n",
       "      <th>2024-06</th>\n",
       "      <td>121.849</td>\n",
       "      <td>121,849</td>\n",
       "    </tr>\n",
       "    <tr>\n",
       "      <th>2024-07</th>\n",
       "      <td>145.597</td>\n",
       "      <td>145,597</td>\n",
       "    </tr>\n",
       "  </tbody>\n",
       "</table>\n",
       "</div>"
      ]
     },
     "execution_count": 14,
     "metadata": {},
     "output_type": "execute_result"
    }
   ],
   "execution_count": 14
  },
  {
   "metadata": {
    "ExecuteTime": {
     "end_time": "2025-03-24T10:37:30.011001Z",
     "start_time": "2025-03-24T10:37:30.009698Z"
    }
   },
   "cell_type": "code",
   "source": "",
   "id": "830aefb4445eb66c",
   "outputs": [],
   "execution_count": null
  }
 ],
 "metadata": {
  "kernelspec": {
   "display_name": "Python 3",
   "language": "python",
   "name": "python3"
  },
  "language_info": {
   "codemirror_mode": {
    "name": "ipython",
    "version": 2
   },
   "file_extension": ".py",
   "mimetype": "text/x-python",
   "name": "python",
   "nbconvert_exporter": "python",
   "pygments_lexer": "ipython2",
   "version": "2.7.6"
  }
 },
 "nbformat": 4,
 "nbformat_minor": 5
}
