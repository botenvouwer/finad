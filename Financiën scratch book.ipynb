{
 "cells": [
  {
   "cell_type": "code",
   "execution_count": null,
   "outputs": [],
   "source": [
    "print('test')"
   ],
   "metadata": {
    "collapsed": false,
    "pycharm": {
     "is_executing": true
    }
   }
  },
  {
   "cell_type": "markdown",
   "source": [
    "# Sheet"
   ],
   "metadata": {
    "collapsed": false
   }
  },
  {
   "cell_type": "code",
   "source": [
    "import os\n",
    "import sys\n",
    "module_path = os.path.abspath(os.path.join('..'))\n",
    "if module_path not in sys.path:\n",
    "    sys.path.append(module_path)\n",
    "\n",
    "import numpy as np\n",
    "import matplotlib.pyplot as plt\n",
    "from matplotlib.pyplot import figure\n",
    "\n",
    "plt.style.use('dark_background')\n",
    "figure(figsize=(16, 8), dpi=60)\n",
    "plt.rcParams[\"figure.figsize\"] = (18,5)\n",
    "\n",
    "from os import listdir\n",
    "from os.path import isfile, join\n",
    "from pathlib import *\n",
    "import pandas as pd\n",
    "\n",
    "from fin.LoadKnab import parse_csv_knab\n",
    "\n",
    "data_path = Path('./data')\n",
    "\n",
    "fin_headers = ['date', 'year', 'month', 'credit_or_debet', 'amount', 'credit', 'debet', 'i_number', 'i_name', 'e_number', 'e_name', 'internal_or_external', 'e_type', 'e_official_name', 'description', 'payment_type']\n",
    "\n",
    "pri_inkomen, pri_boodschappen, pri_fun, pri_overig, pri_abbo, pri_stack, pri_stack_kaakoperatie, huis_inkomen_en_lasten, huis_klussen, huis_huishoudelijk, huis_spaar = [None] * 11\n",
    "df_pri_inkomen, df_pri_boodschappen, df_pri_fun, df_pri_overig, df_pri_abbo, df_pri_stack, df_pri_stack_kaakoperatie, df_huis_inkomen_en_lasten, df_huis_klussen, df_huis_huishoudelijk, df_huis_spaar = [None] * 11\n",
    "\n",
    "labels = {\n",
    "    'NL25KNAB0604860706': 'pri_inkomen',\n",
    "    'NL60KNAB0604871716': 'pri_boodschappen',\n",
    "    'NL54KNAB0604873182': 'pri_fun',\n",
    "    'NL55KNAB0604872291': 'pri_overig',\n",
    "    'NL08KNAB0604887493': 'pri_abbo',\n",
    "    '57347285': 'pri_stack',\n",
    "    '57441905': 'pri_stack_kaakoperatie',\n",
    "    'NL02KNAB0407458360': 'huis_inkomen_en_lasten',\n",
    "    'NL45KNAB0407464085': 'huis_klussen',\n",
    "    'NL13KNAB0407465243': 'huis_huishoudelijk',\n",
    "    '57857884': 'huis_spaar',\n",
    "    'NL55INGB0798628839': 'huis_hypotheek',\n",
    "    'NL06RABO0154599808': 'pri_oud',\n",
    "    '57673844': 'pri_stack_oud',\n",
    "    '60010259': 'pri_stack_oud2',\n",
    "}\n",
    "\n",
    "fin_data = []\n",
    "fin_pandas = []\n",
    "csv_paths = [f for f in listdir(data_path) if isfile(join(data_path, f))]\n",
    "\n",
    "for i, cvs_path in enumerate(csv_paths):\n",
    "\n",
    "    path = data_path / cvs_path\n",
    "    account_number, account_type, year = parse_csv_knab(cvs_path)\n",
    "\n",
    "    label = labels[account_number]\n",
    "\n",
    "    s = label.split('_')\n",
    "    account_name, account_category = (s.pop(0), '_'.join(s))\n",
    "\n",
    "    df = pd.read_csv(path, skiprows=1, sep=';', decimal=',')\n",
    "    df['Bedrag'] = df['Bedrag'].astype(float)\n",
    "\n",
    "    df['Transactiedatum'] = pd.to_datetime(df['Transactiedatum'], dayfirst=True)\n",
    "    df['Year'] = df['Transactiedatum'].dt.year\n",
    "    df['Month'] = df['Transactiedatum'].dt.month\n",
    "\n",
    "    def transform(c):\n",
    "        c['Credit'] = c['Bedrag'] if c['CreditDebet'] == 'C' else 0\n",
    "        c['Debet'] = c['Bedrag'] if c['CreditDebet'] == 'D' else 0\n",
    "        c['RekeningnummerNaam'] = labels[c['Rekeningnummer']] if c['Rekeningnummer'] in labels else '?'\n",
    "        c['TegenrekeningnummerNaam'] = labels[c['Tegenrekeningnummer']] if c['Tegenrekeningnummer'] in labels else c['Tegenrekeninghouder']\n",
    "        c['InternalExternal'] = 'I' if c['Tegenrekeningnummer'] in labels else 'E'\n",
    "        c['e_type'] = ('P' if c['Tegenrekeningnummer'].startswith('NL') else 'S') if c['InternalExternal'] == 'I' else None\n",
    "\n",
    "        return c\n",
    "\n",
    "    df = df.apply(transform, axis=1)\n",
    "    df = df[['Transactiedatum', 'Year', 'Month', 'CreditDebet', 'Bedrag', 'Credit', 'Debet', 'Rekeningnummer', 'RekeningnummerNaam', 'Tegenrekeningnummer', 'TegenrekeningnummerNaam', 'InternalExternal', 'e_type', 'Tegenrekeninghouder', 'Omschrijving', 'Betaalwijze']]\n",
    "    df.set_axis(fin_headers, axis=1, inplace=True)\n",
    "\n",
    "    fin_pandas.append(df)\n",
    "\n",
    "    account_info = {\n",
    "        'path': path,\n",
    "        'df': df,\n",
    "        'account_name': account_name,\n",
    "        'account_category': account_category,\n",
    "        'account_number': account_number,\n",
    "        'account_type': account_type,\n",
    "        'year': year,\n",
    "    }\n",
    "\n",
    "    account_info = Struct(account_info)\n",
    "    locals().update({label: account_info, f'df_{label}': df})\n",
    "    fin_data.append(account_info)\n",
    "\n"
   ],
   "metadata": {
    "collapsed": false,
    "pycharm": {
     "is_executing": true
    },
    "is_executing": true,
    "ExecuteTime": {
     "end_time": "2024-10-04T09:03:48.331289Z",
     "start_time": "2024-10-04T09:03:47.673483Z"
    }
   },
   "outputs": [
    {
     "ename": "IndexError",
     "evalue": "list index out of range",
     "output_type": "error",
     "traceback": [
      "\u001B[0;31m---------------------------------------------------------------------------\u001B[0m",
      "\u001B[0;31mIndexError\u001B[0m                                Traceback (most recent call last)",
      "Cell \u001B[0;32mIn[1], line 54\u001B[0m\n\u001B[1;32m     51\u001B[0m \u001B[38;5;28;01mfor\u001B[39;00m i, cvs_path \u001B[38;5;129;01min\u001B[39;00m \u001B[38;5;28menumerate\u001B[39m(csv_paths):\n\u001B[1;32m     53\u001B[0m     path \u001B[38;5;241m=\u001B[39m data_path \u001B[38;5;241m/\u001B[39m cvs_path\n\u001B[0;32m---> 54\u001B[0m     account_number, account_type, year \u001B[38;5;241m=\u001B[39m \u001B[43mparse_csv_knab\u001B[49m\u001B[43m(\u001B[49m\u001B[43mcvs_path\u001B[49m\u001B[43m)\u001B[49m\n\u001B[1;32m     56\u001B[0m     label \u001B[38;5;241m=\u001B[39m labels[account_number]\n\u001B[1;32m     58\u001B[0m     s \u001B[38;5;241m=\u001B[39m label\u001B[38;5;241m.\u001B[39msplit(\u001B[38;5;124m'\u001B[39m\u001B[38;5;124m_\u001B[39m\u001B[38;5;124m'\u001B[39m)\n",
      "File \u001B[0;32m~/repo/github/finad/fin/LoadKnab.py:82\u001B[0m, in \u001B[0;36mparse_csv_knab\u001B[0;34m(file_name)\u001B[0m\n\u001B[1;32m     80\u001B[0m s \u001B[38;5;241m=\u001B[39m file_name\u001B[38;5;241m.\u001B[39msplit(\u001B[38;5;124m'\u001B[39m\u001B[38;5;124m \u001B[39m\u001B[38;5;124m'\u001B[39m)\n\u001B[1;32m     81\u001B[0m \u001B[38;5;66;03m# (account_number, account_type, year)\u001B[39;00m\n\u001B[0;32m---> 82\u001B[0m \u001B[38;5;28;01mreturn\u001B[39;00m (\u001B[43ms\u001B[49m\u001B[43m[\u001B[49m\u001B[38;5;241;43m3\u001B[39;49m\u001B[43m]\u001B[49m, s[\u001B[38;5;241m2\u001B[39m], s[\u001B[38;5;241m5\u001B[39m][\u001B[38;5;241m0\u001B[39m:\u001B[38;5;241m4\u001B[39m])\n",
      "\u001B[0;31mIndexError\u001B[0m: list index out of range"
     ]
    },
    {
     "data": {
      "text/plain": [
       "<Figure size 960x480 with 0 Axes>"
      ]
     },
     "metadata": {},
     "output_type": "display_data"
    }
   ],
   "execution_count": 1
  },
  {
   "cell_type": "code",
   "source": [
    "df = df_pri_inkomen\n",
    "df = df.loc[df['credit_or_debet'] == 'C']\n",
    "df = df.loc[df['internal_or_external'] == 'E']\n",
    "\n",
    "print(df['e_name'].value_counts())\n",
    "print(df['e_number'].value_counts())\n",
    "print(df['payment_type'].value_counts())\n",
    "\n",
    "df"
   ],
   "execution_count": null,
   "outputs": [],
   "metadata": {
    "datalore": {
     "node_id": "rHYbMxEB1Vg1JtxVyKe40F",
     "type": "CODE",
     "hide_input_from_viewers": false,
     "hide_output_from_viewers": false
    }
   }
  },
  {
   "cell_type": "markdown",
   "source": [
    "# Inkomen"
   ],
   "attachments": {},
   "metadata": {
    "datalore": {
     "node_id": "VR3tpzMx7ajoqZqrQwet0H",
     "type": "MD",
     "hide_input_from_viewers": false,
     "hide_output_from_viewers": false
    }
   }
  },
  {
   "cell_type": "code",
   "source": [
    "df = df_pri_inkomen\n",
    "df = df.loc[df['credit_or_debet'] == 'C']\n",
    "df = df.loc[df['internal_or_external'] == 'E']\n",
    "\n",
    "print(df['e_name'].value_counts())\n",
    "\n",
    "df"
   ],
   "execution_count": null,
   "outputs": [],
   "metadata": {
    "datalore": {
     "node_id": "fMuzNeKnOen9AJkSSKK1oV",
     "type": "CODE",
     "hide_input_from_viewers": false,
     "hide_output_from_viewers": false
    }
   }
  },
  {
   "cell_type": "code",
   "source": [
    "df_per_crediteur = df.groupby('e_name').agg({'credit': ['sum'], 'amount': 'sum'})\n",
    "\n",
    "labels = df_per_crediteur.index\n",
    "\n",
    "print(labels)\n",
    "\n",
    "df_per_crediteur['credit'].iloc[:, 0]"
   ],
   "execution_count": null,
   "outputs": [],
   "metadata": {
    "datalore": {
     "node_id": "g6aFg9CgSITTErPEeNaBUK",
     "type": "CODE",
     "hide_input_from_viewers": false,
     "hide_output_from_viewers": false
    }
   }
  },
  {
   "cell_type": "code",
   "source": [
    "df = df_pri_inkomen\n",
    "df = df.loc[df['credit_or_debet'] == 'C']\n",
    "df = df.loc[df['internal_or_external'] == 'E']\n",
    "\n",
    "df_per_maand = df.groupby('month').agg({'credit': ['sum'], 'amount': 'sum'})\n",
    "\n",
    "labels = df_per_maand.index\n",
    "values = list(df_per_maand['credit'].iloc[:, 0])\n",
    "\n",
    "# labels = df['month']\n",
    "# values = df['credit']\n",
    "\n",
    "maand_labels = ('Januari', 'Februari', 'Maart', 'April', 'Mei', 'Juni', 'Juli', 'Augustus', 'September', 'Oktober', 'November', 'December')\n",
    "maand_nummers = (1,2,3,4,5,6,7,8,9,10,11,12)\n",
    "\n",
    "fig, ax = plt.subplots()\n",
    "\n",
    "hbars = ax.barh(labels, values, align='center')\n",
    "ax.set_yticks(maand_nummers, labels=maand_labels)\n",
    "\n",
    "ax.set_xlabel('Euro')\n",
    "ax.set_ylabel('Maanden')\n",
    "ax.set_title('2021 Inkomen per maand')\n",
    "\n",
    "# Label with specially formatted floats\n",
    "# ax.bar_label(hbars, fmt='%.2f')\n",
    "ax.bar_label(hbars, fmt=' €%.2f')\n",
    "ax.set_xlim(right=(max(values)*1.1))  # adjust xlim to fit labels\n",
    "\n",
    "plt.show()"
   ],
   "execution_count": null,
   "outputs": [],
   "metadata": {
    "datalore": {
     "node_id": "lg0FSQcV2CavMDKPQXiav7",
     "type": "CODE",
     "hide_input_from_viewers": false,
     "hide_output_from_viewers": false
    }
   }
  },
  {
   "cell_type": "code",
   "source": [
    "df = df_pri_inkomen\n",
    "df = df.loc[df['credit_or_debet'] == 'C']\n",
    "\n",
    "df_per_maand = df.groupby('month').agg({'credit': ['sum'], 'amount': 'sum'})\n",
    "\n",
    "labels = df_per_maand.index\n",
    "values = list(df_per_maand['amount'].iloc[:, 0])\n",
    "\n",
    "# labels = df['month']\n",
    "# values = df['credit']\n",
    "\n",
    "maand_labels = ('Januari', 'Februari', 'Maart', 'April', 'Mei', 'Juni', 'Juli', 'Augustus', 'September', 'Oktober', 'November', 'December')\n",
    "maand_nummers = (1,2,3,4,5,6,7,8,9,10,11,12)\n",
    "\n",
    "fig, ax = plt.subplots()\n",
    "\n",
    "hbars = ax.barh(labels, values, align='center')\n",
    "ax.set_yticks(maand_nummers, labels=maand_labels)\n",
    "\n",
    "ax.set_xlabel('Euro')\n",
    "ax.set_ylabel('Maanden')\n",
    "ax.set_title('2021 Inkomen per maand')\n",
    "\n",
    "# Label with specially formatted floats\n",
    "# ax.bar_label(hbars, fmt='%.2f')\n",
    "ax.bar_label(hbars, fmt=' €%.2f')\n",
    "ax.set_xlim(right=(max(values)*1.1))  # adjust xlim to fit labels\n",
    "\n",
    "plt.show()"
   ],
   "execution_count": null,
   "outputs": [],
   "metadata": {
    "datalore": {
     "node_id": "EnIHHHZMvzscro5bQzawa8",
     "type": "CODE",
     "hide_input_from_viewers": false,
     "hide_output_from_viewers": false
    }
   }
  },
  {
   "cell_type": "code",
   "source": [],
   "execution_count": null,
   "outputs": [],
   "metadata": {
    "datalore": {
     "node_id": "UcliuX5StXlprMfSINNLaM",
     "type": "CODE",
     "hide_input_from_viewers": false,
     "hide_output_from_viewers": false
    }
   }
  },
  {
   "cell_type": "markdown",
   "source": [
    "# Uitgaven"
   ],
   "attachments": {},
   "metadata": {
    "datalore": {
     "node_id": "DnAjG6yxLoUuohFnVELtyk",
     "type": "MD",
     "hide_input_from_viewers": false,
     "hide_output_from_viewers": false
    }
   }
  },
  {
   "cell_type": "code",
   "source": [
    "df = df_pri_inkomen\n",
    "df = df.loc[df['credit_or_debet'] == 'D']\n",
    "df = df.loc[df['e_type'] != 'S']\n",
    "\n",
    "df_per_category = df.groupby(['e_name', 'internal_or_external']) \\\n",
    "                             .agg({'amount': ['count',  'sum', ('per_month', lambda v: v.sum() / 12), 'mean', 'min', 'max']}) \\\n",
    "                             .sort_values(by=[('amount', 'count')], ascending=False)\n",
    "df_per_category[[('amount','sum')]].plot.barh()\n",
    "\n",
    "print(\"totale uitgaven €\", sum(df_per_category[('amount','sum')]))\n",
    "\n",
    "df_per_category"
   ],
   "execution_count": null,
   "outputs": [],
   "metadata": {
    "datalore": {
     "node_id": "hTCGj7ISGu0ETfogbEK4ES",
     "type": "CODE",
     "hide_input_from_viewers": false,
     "hide_output_from_viewers": false
    }
   }
  },
  {
   "cell_type": "code",
   "source": [
    "df = df_pri_inkomen\n",
    "df = df.loc[df['credit_or_debet'] == 'D']\n",
    "\n",
    "print(df['e_name'].value_counts())\n",
    "\n",
    "df"
   ],
   "execution_count": null,
   "outputs": [],
   "metadata": {
    "datalore": {
     "node_id": "t9w2yV82wu2FGFhZT4eQps",
     "type": "CODE",
     "hide_input_from_viewers": false,
     "hide_output_from_viewers": false
    }
   }
  },
  {
   "cell_type": "code",
   "source": [
    "df_per_account = df.groupby('i_name').agg({'amount': 'sum'})\n",
    "\n",
    "\n",
    "labels = df_per_account.index\n",
    "\n",
    "print(labels)\n",
    "\n",
    "values = list(df_per_account['amount'])\n",
    "values"
   ],
   "execution_count": null,
   "outputs": [],
   "metadata": {
    "datalore": {
     "node_id": "lHGS256RrASXvtsGCPzJFa",
     "type": "CODE",
     "hide_input_from_viewers": false,
     "hide_output_from_viewers": false
    }
   }
  },
  {
   "cell_type": "code",
   "source": [
    "df_per_maand = df.groupby('month').agg({'credit': ['sum'], 'amount': 'sum'})\n",
    "\n",
    "labels = df_per_maand.index\n",
    "values = list(df_per_maand['amount'].iloc[:, 0])\n",
    "\n",
    "# labels = df['month']\n",
    "# values = df['credit']\n",
    "\n",
    "maand_labels = ('Januari', 'Februari', 'Maart', 'April', 'Mei', 'Juni', 'Juli', 'Augustus', 'September', 'Oktober', 'November', 'December')\n",
    "maand_nummers = (1,2,3,4,5,6,7,8,9,10,11,12)\n",
    "\n",
    "fig, ax = plt.subplots()\n",
    "\n",
    "hbars = ax.barh(labels, values, align='center')\n",
    "ax.set_yticks(maand_nummers, labels=maand_labels)\n",
    "\n",
    "ax.set_xlabel('Euro')\n",
    "ax.set_ylabel('Maanden')\n",
    "ax.set_title('2021 Inkomen per maand')\n",
    "\n",
    "# Label with specially formatted floats\n",
    "# ax.bar_label(hbars, fmt='%.2f')\n",
    "ax.bar_label(hbars, fmt=' €%.2f')\n",
    "ax.set_xlim(right=(max(values)*1.1))  # adjust xlim to fit labels\n",
    "\n",
    "plt.show()"
   ],
   "execution_count": null,
   "outputs": [],
   "metadata": {
    "datalore": {
     "node_id": "wYi0wtG8Y3bqQzkJ5DwjUQ",
     "type": "CODE",
     "hide_input_from_viewers": false,
     "hide_output_from_viewers": false
    }
   }
  },
  {
   "cell_type": "code",
   "source": [
    "df = df_pri_inkomen\n",
    "df = df.loc[df['credit_or_debet'] == 'D']\n",
    "df = df.loc[df['internal_or_external'] == 'I']\n",
    "df = df.loc[df['e_type'].isin(['P', 'S'])]\n",
    "\n",
    "df_per_maand = df.groupby(['month', 'e_name']).agg({'amount': ['sum', 'mean', 'min', 'max']})\n",
    "\n",
    "df_per_maand.plot.bar()\n",
    "df_per_maand"
   ],
   "execution_count": null,
   "outputs": [],
   "metadata": {
    "datalore": {
     "node_id": "Ogjx075vHpVrGBmTpjnn9b",
     "type": "CODE",
     "hide_input_from_viewers": false,
     "hide_output_from_viewers": false
    }
   }
  },
  {
   "cell_type": "code",
   "source": [
    "df.groupby(['e_name']).agg({'amount': ['sum', ('per_month', lambda v: v.sum() / 12), 'mean']}).plot.barh()\n",
    "\n",
    "df_per_category = df.groupby(['e_name']).agg({'amount': ['sum', ('per_month', lambda v: v.sum() / 12), 'mean', 'min', 'max']})\n",
    "df_per_category.plot.barh()\n",
    "df_per_category"
   ],
   "execution_count": null,
   "outputs": [],
   "metadata": {
    "datalore": {
     "node_id": "lc3PUe3aCnbfp79SZAFBNw",
     "type": "CODE",
     "hide_input_from_viewers": false,
     "hide_output_from_viewers": false
    }
   }
  },
  {
   "cell_type": "code",
   "source": [
    "df_pri_inkomen"
   ],
   "execution_count": null,
   "outputs": [],
   "metadata": {
    "datalore": {
     "node_id": "eE5Gv8IN3teCEf4VQCp5d5",
     "type": "CODE",
     "hide_input_from_viewers": false,
     "hide_output_from_viewers": false
    }
   }
  },
  {
   "cell_type": "markdown",
   "source": [
    "## Beugel"
   ],
   "attachments": {},
   "metadata": {
    "datalore": {
     "node_id": "KdnRbahYj0XfUSGAotzKXL",
     "type": "MD",
     "hide_input_from_viewers": false,
     "hide_output_from_viewers": false
    }
   }
  },
  {
   "cell_type": "code",
   "source": [
    "df = df_pri_overig\n",
    "\n",
    "old_costs = [\n",
    "    130.0,\n",
    "    5.44,\n",
    "    58.12,\n",
    "    8.15,\n",
    "    240.0,\n",
    "    241.19,\n",
    "    41.44,\n",
    "    41.44,\n",
    "    41.44,\n",
    "    41.44,\n",
    "    45.7,\n",
    "    93.03,\n",
    "    41.44,\n",
    "    41.44\n",
    "]\n",
    "\n",
    "old_costs_total = sum(old_costs)\n",
    "\n",
    "print(\"old costs: €\", old_costs_total)\n",
    "\n",
    "df_beugel = df.loc[df['e_name'] == 'Infomedics B.V.']\n",
    "\n",
    "print(df_beugel['amount'])\n",
    "\n",
    "costs = sum(df_beugel['amount'])\n",
    "\n",
    "costs = costs + old_costs_total\n",
    "\n",
    "prediction = 12 * 42.77\n",
    "\n",
    "inzet_kosten = 240.0 + 241.19\n",
    "\n",
    "print(\"beugelkosten: €\", costs)\n",
    "print(\"wachten tot kaakoperatie: €\", prediction)\n",
    "print(\"beugel plaatsen: €\", inzet_kosten)\n",
    "print(\"beugel verwijderen en plaatsten: €\", inzet_kosten)\n"
   ],
   "execution_count": null,
   "outputs": [],
   "metadata": {
    "datalore": {
     "node_id": "CBIXvET7UOVnJwhSw4yUeJ",
     "type": "CODE",
     "hide_input_from_viewers": false,
     "hide_output_from_viewers": false
    }
   }
  },
  {
   "cell_type": "markdown",
   "source": [
    "## abbo"
   ],
   "attachments": {},
   "metadata": {
    "datalore": {
     "node_id": "yq8Z9vppammRSWQHpMKn2h",
     "type": "MD",
     "hide_input_from_viewers": false,
     "hide_output_from_viewers": false
    }
   }
  },
  {
   "cell_type": "code",
   "source": [
    "df = df_pri_abbo\n",
    "df = df.loc[df['credit_or_debet'] == 'D']\n",
    "\n",
    "print(df['e_name'].value_counts())\n",
    "\n",
    "df"
   ],
   "execution_count": null,
   "outputs": [],
   "metadata": {
    "datalore": {
     "node_id": "RsDnAEPTww9omC1nR8RaG6",
     "type": "CODE",
     "hide_input_from_viewers": false,
     "hide_output_from_viewers": false
    }
   }
  },
  {
   "cell_type": "code",
   "source": [
    "df.groupby(['e_name']).agg({'amount': ['sum', ('per_month', lambda v: v.sum() / 12), 'mean']}).plot.barh()\n",
    "\n",
    "df_per_category = df.groupby(['e_name']).agg({'amount': ['sum', ('per_month', lambda v: v.sum() / 12), 'mean', 'min', 'max']})\n",
    "df_per_category.plot.barh()\n",
    "df_per_category"
   ],
   "execution_count": null,
   "outputs": [],
   "metadata": {
    "datalore": {
     "node_id": "NJ9Epr6QxjRo6xZ394bfmG",
     "type": "CODE",
     "hide_input_from_viewers": false,
     "hide_output_from_viewers": false
    }
   }
  },
  {
   "cell_type": "markdown",
   "source": [
    "## Sauna"
   ],
   "attachments": {},
   "metadata": {
    "datalore": {
     "node_id": "tUX24IwBbyr9INB7udTEpy",
     "type": "MD",
     "hide_input_from_viewers": false,
     "hide_output_from_viewers": false
    }
   }
  },
  {
   "cell_type": "code",
   "source": [
    "# df = df_pri_overig \n",
    "df = df_pri_fun \n",
    "\n",
    "search_term = 'thermen'\n",
    "\n",
    "search = df[df['e_official_name'].str.contains(search_term, na=False, case=False)]\n",
    "search2 = df[df['description'].str.contains(search_term, na=False, case=False)]\n",
    "\n",
    "c = ['year', 'month','amount', 'e_official_name', 'description']\n",
    "print('search1')\n",
    "print(search[c])\n",
    "print('search2')\n",
    "print(search2[c])\n",
    "\n",
    "df"
   ],
   "execution_count": null,
   "outputs": [],
   "metadata": {
    "datalore": {
     "node_id": "05395hDy4eSv2yNVpMo3kd",
     "type": "CODE",
     "hide_input_from_viewers": false,
     "hide_output_from_viewers": false
    }
   }
  },
  {
   "cell_type": "markdown",
   "source": [
    "## Overig"
   ],
   "attachments": {},
   "metadata": {
    "datalore": {
     "node_id": "efOS94Mfq975JWAfGaCGJI",
     "type": "MD",
     "hide_input_from_viewers": false,
     "hide_output_from_viewers": false
    }
   }
  },
  {
   "cell_type": "code",
   "source": [
    "df = df_pri_overig\n",
    "df = df.loc[df['credit_or_debet'] == 'D']\n",
    "\n",
    "print(df['e_name'].value_counts())\n",
    "\n",
    "df"
   ],
   "execution_count": null,
   "outputs": [],
   "metadata": {
    "datalore": {
     "node_id": "ekBGfonaSjZ1gaF8UehApe",
     "type": "CODE",
     "hide_input_from_viewers": false,
     "hide_output_from_viewers": false
    }
   }
  },
  {
   "cell_type": "code",
   "source": [
    "df_per_category = df.groupby(['e_name']) \\\n",
    "                             .agg({'amount': ['count',  'sum', ('per_month', lambda v: v.sum() / 12), 'mean', 'min', 'max']}) \\\n",
    "                             .sort_values(by=[('amount', 'count')], ascending=False)\n",
    "df_per_category[('amount', 'sum')].plot.barh()\n",
    "df_per_category"
   ],
   "execution_count": null,
   "outputs": [],
   "metadata": {
    "datalore": {
     "node_id": "f0baOddOH7o6BkBjgSakz9",
     "type": "CODE",
     "hide_input_from_viewers": false,
     "hide_output_from_viewers": false
    }
   }
  },
  {
   "cell_type": "code",
   "source": [
    "name = []\n",
    "count = []\n",
    "amount = []\n",
    "\n",
    "aggregates = {\n",
    "    5: [0, 0],\n",
    "    10: [0, 0],\n",
    "    25: [0, 0],\n",
    "    50: [0, 0],\n",
    "    100: [0, 0],\n",
    "}\n",
    "l = list(aggregates)\n",
    "first_aggregates = l\n",
    "last_aggregate = l[-1] + 1\n",
    "aggregates.update({last_aggregate: [0, 0]})\n",
    "\n",
    "def aggregate_small_values(c):\n",
    "    n = c.name    \n",
    "    s = c[('amount', 'sum')]\n",
    "    c = c[('amount', 'count')]\n",
    "\n",
    "    if c <= 2 and s < 151:\n",
    "    \n",
    "        if s < last_aggregate:\n",
    "            for a in first_aggregates:\n",
    "                if s <= a:\n",
    "                    aggregates[a][0] += c\n",
    "                    aggregates[a][1] += s\n",
    "                    break\n",
    "        else:\n",
    "            aggregates[last_aggregate][0] += c\n",
    "            aggregates[last_aggregate][1] += s\n",
    "    else:\n",
    "        name.append(n)\n",
    "        count.append(c)\n",
    "        amount.append(s)\n",
    "\n",
    "df_per_category.apply(aggregate_small_values, axis=1)\n",
    "\n",
    "for a in first_aggregates:\n",
    "    name.append(f'{a} and smaller')\n",
    "    count.append(aggregates[a][0])\n",
    "    amount.append(aggregates[a][1])\n",
    "\n",
    "name.append(f'{last_aggregate} and bigger')\n",
    "count.append(aggregates[last_aggregate][0])\n",
    "amount.append(aggregates[last_aggregate][1])\n",
    "\n",
    "df_agg = pd.DataFrame(index=name, data={'count': count, 'amount': amount})\n",
    "\n",
    "plt.rcParams[\"figure.figsize\"] = (18,10)\n",
    "df_agg.plot.barh(title='Overig 2021')\n",
    "plt.rcParams[\"figure.figsize\"] = (18,5)\n",
    "\n",
    "df_agg"
   ],
   "execution_count": null,
   "outputs": [],
   "metadata": {
    "datalore": {
     "node_id": "FfGrIrqCaBCqWQwUrKF53f",
     "type": "CODE",
     "hide_input_from_viewers": false,
     "hide_output_from_viewers": false
    }
   }
  },
  {
   "cell_type": "markdown",
   "source": [
    "# pin"
   ],
   "attachments": {},
   "metadata": {
    "datalore": {
     "node_id": "kcKirYwZeC5uLjdKg8l6qb",
     "type": "MD",
     "hide_input_from_viewers": false,
     "hide_output_from_viewers": false
    }
   }
  },
  {
   "cell_type": "code",
   "source": [
    "df_pin = df[df['amount'] >= 149]\n",
    "df_pin = df_pin[df_pin['payment_type'] == 'Geldautomaat']\n",
    "\n",
    "b = sum(df_pin['amount']) - 200\n",
    "pm = round(b / 12, 2)\n",
    "\n",
    "print('Pin: €', b)\n",
    "print('P.M.: €', )\n",
    "print('% van I: ', round(pm / 2100 * 100), '%')\n",
    "\n",
    "df_pin"
   ],
   "execution_count": null,
   "outputs": [],
   "metadata": {
    "datalore": {
     "node_id": "YT4fAs0zIL0QL3FXmm83xN",
     "type": "CODE",
     "hide_input_from_viewers": false,
     "hide_output_from_viewers": false
    }
   }
  },
  {
   "cell_type": "markdown",
   "source": [
    "### Boetes!!!"
   ],
   "attachments": {},
   "metadata": {
    "datalore": {
     "node_id": "kGouxLFl4VLBGTx6444BCo",
     "type": "MD",
     "hide_input_from_viewers": false,
     "hide_output_from_viewers": false
    }
   }
  },
  {
   "cell_type": "code",
   "source": [
    "# df_boete = df.loc[df['e_name'] == 'cjib']\n",
    "\n",
    "search_term = 'cjib'\n",
    "df_boete = df[df['e_official_name'].str.contains(search_term, na=False, case=False)]\n",
    "\n",
    "print(df_boete['amount'])\n",
    "\n",
    "costs = sum(df_boete['amount'])\n",
    "\n",
    "print(\"Boetes: €\", costs)\n",
    "print(\"Per maand: €\", round(costs / 12, 2))"
   ],
   "execution_count": null,
   "outputs": [],
   "metadata": {
    "datalore": {
     "node_id": "B8oECXh1EOR98TewxZoaIi",
     "type": "CODE",
     "hide_input_from_viewers": false,
     "hide_output_from_viewers": false
    }
   }
  },
  {
   "cell_type": "code",
   "source": [
    "# df[df['description'].str.contains(search_term, na=False, case=False)]\n",
    "\n",
    "df_boete = df.loc[df['description'] == '8062542246114392']\n",
    "df_boete"
   ],
   "execution_count": null,
   "outputs": [],
   "metadata": {
    "datalore": {
     "node_id": "2WCeUwOECBVV6wGesFhto1",
     "type": "CODE",
     "hide_input_from_viewers": false,
     "hide_output_from_viewers": false
    }
   }
  },
  {
   "cell_type": "markdown",
   "source": [
    "## Boodschappen"
   ],
   "attachments": {},
   "metadata": {
    "datalore": {
     "node_id": "sRXOr8CnSdNY7yBpO0Dd0Q",
     "type": "MD",
     "hide_input_from_viewers": false,
     "hide_output_from_viewers": false
    }
   }
  },
  {
   "cell_type": "code",
   "source": [
    "df = df_pri_boodschappen\n",
    "df = df.loc[df['credit_or_debet'] == 'D']\n",
    "\n",
    "print(df['e_name'].value_counts())\n",
    "\n",
    "df"
   ],
   "execution_count": null,
   "outputs": [],
   "metadata": {
    "datalore": {
     "node_id": "YcFoVA4pxlNNisfect1ucd",
     "type": "CODE",
     "hide_input_from_viewers": false,
     "hide_output_from_viewers": false
    }
   }
  },
  {
   "cell_type": "code",
   "source": [
    "budget = 250\n",
    "\n",
    "df_per_month = df.groupby(['month']) \\\n",
    "                             .agg({'amount': ['count',  'sum', ('per_day', lambda v: v.sum() / 30), 'mean', 'min', 'max']})\n",
    "\n",
    "\n",
    "%matplotlib inline\n",
    "\n",
    "fig, axes = plt.subplots(figsize=(10,8))\n",
    "\n",
    "\n",
    "\n",
    "plt.plot([-1, 12], [budget, budget], color='red')\n",
    "\n",
    "ax = df_per_month[('amount', 'sum')].plot.bar(ax=axes, yerr=df_per_month[('amount','per_day')], title='Budget boodschappen 2021')\n",
    "\n",
    "plt.show()\n",
    "\n",
    "df_per_month"
   ],
   "execution_count": null,
   "outputs": [],
   "metadata": {
    "datalore": {
     "node_id": "qXqKfoNgQLsL8uesJtZTd1",
     "type": "CODE",
     "hide_input_from_viewers": false,
     "hide_output_from_viewers": false
    }
   }
  },
  {
   "cell_type": "code",
   "source": [
    "df_per_category = df.groupby(['e_name']) \\\n",
    "                             .agg({'amount': ['count',  'sum', ('per_month', lambda v: v.sum() / 12), 'mean', 'min', 'max']}) \\\n",
    "                             .sort_values(by=[('amount', 'count')], ascending=False)\n",
    "\n",
    "df_per_category"
   ],
   "execution_count": null,
   "outputs": [],
   "metadata": {
    "datalore": {
     "node_id": "PmGkGpLDbjSDR12GBoWAhH",
     "type": "CODE",
     "hide_input_from_viewers": false,
     "hide_output_from_viewers": false
    }
   }
  },
  {
   "cell_type": "code",
   "source": [
    "name = []\n",
    "count = []\n",
    "amount = []\n",
    "\n",
    "aggregates = {\n",
    "    5: [0, 0],\n",
    "    10: [0, 0],\n",
    "    25: [0, 0],\n",
    "    50: [0, 0],\n",
    "}\n",
    "l = list(aggregates)\n",
    "first_aggregates = l\n",
    "last_aggregate = l[-1] + 1\n",
    "aggregates.update({last_aggregate: [0, 0]})\n",
    "\n",
    "def aggregate_small_values(c):\n",
    "    n = c.name    \n",
    "    s = c[('amount', 'sum')]\n",
    "    c = c[('amount', 'count')]\n",
    "\n",
    "    if c <= 2:\n",
    "    \n",
    "        if s < last_aggregate:\n",
    "            for a in first_aggregates:\n",
    "                if s <= a:\n",
    "                    aggregates[a][0] += c\n",
    "                    aggregates[a][1] += s\n",
    "                    break\n",
    "        else:\n",
    "            aggregates[last_aggregate][0] += c\n",
    "            aggregates[last_aggregate][1] += s\n",
    "    else:\n",
    "        name.append(n)\n",
    "        count.append(c)\n",
    "        amount.append(s)\n",
    "\n",
    "df_per_category.apply(aggregate_small_values, axis=1)\n",
    "\n",
    "for a in first_aggregates:\n",
    "    name.append(f'{a} and smaller')\n",
    "    count.append(aggregates[a][0])\n",
    "    amount.append(aggregates[a][1])\n",
    "\n",
    "name.append(f'{last_aggregate} and bigger')\n",
    "count.append(aggregates[last_aggregate][0])\n",
    "amount.append(aggregates[last_aggregate][1])\n",
    "\n",
    "df_agg = pd.DataFrame(index=name, data={'count': count, 'amount': amount})\n",
    "\n",
    "df_agg.plot.barh(title='Boodschappen 2021')\n",
    "\n",
    "df_agg"
   ],
   "execution_count": null,
   "outputs": [],
   "metadata": {
    "datalore": {
     "node_id": "7kwxME2ubzNMKGaa5YZcsp",
     "type": "CODE",
     "hide_input_from_viewers": false,
     "hide_output_from_viewers": false
    }
   }
  },
  {
   "cell_type": "markdown",
   "source": [
    "## Huis"
   ],
   "attachments": {},
   "metadata": {
    "datalore": {
     "node_id": "8iGwCUfr7pegjJV2eTbsCi",
     "type": "MD",
     "hide_input_from_viewers": false,
     "hide_output_from_viewers": false
    }
   }
  },
  {
   "cell_type": "code",
   "source": [
    "df = df_huis_inkomen_en_lasten\n",
    "df = df.loc[df['credit_or_debet'] == 'D']\n",
    "\n",
    "print(df['e_name'].value_counts())\n",
    "\n",
    "df"
   ],
   "execution_count": null,
   "outputs": [],
   "metadata": {
    "datalore": {
     "node_id": "6MrYXCoJpCDIUQeLFnhv1t",
     "type": "CODE",
     "hide_input_from_viewers": false,
     "hide_output_from_viewers": false
    }
   }
  },
  {
   "cell_type": "code",
   "source": [
    "budget = 250\n",
    "\n",
    "df_per_month = df.groupby(['month']) \\\n",
    "                             .agg({'amount': ['count',  'sum', ('per_day', lambda v: v.sum() / 30), 'mean', 'min', 'max']})\n",
    "\n",
    "\n",
    "%matplotlib inline\n",
    "\n",
    "fig, axes = plt.subplots(figsize=(10,8))\n",
    "\n",
    "\n",
    "\n",
    "# plt.plot([-1, 12], [budget, budget], color='red')\n",
    "\n",
    "ax = df_per_month[('amount', 'sum')].plot.bar(ax=axes, yerr=df_per_month[('amount','per_day')], title='Huis lasten 2021')\n",
    "\n",
    "plt.show()\n",
    "\n",
    "df_per_month"
   ],
   "execution_count": null,
   "outputs": [],
   "metadata": {
    "datalore": {
     "node_id": "6bbGJAK24u2rM4j5HTpLZc",
     "type": "CODE",
     "hide_input_from_viewers": false,
     "hide_output_from_viewers": false
    }
   }
  },
  {
   "cell_type": "code",
   "source": [
    "df_per_category = df.groupby(['e_name']) \\\n",
    "                             .agg({'amount': ['count',  'sum', ('per_month', lambda v: v.sum() / 12), 'mean', 'min', 'max']}) \\\n",
    "                             .sort_values(by=[('amount', 'count')], ascending=False)\n",
    "\n",
    "df_per_category[('amount','sum')].plot.barh(title='Huis lasten 2021')\n",
    "\n",
    "df_per_category"
   ],
   "execution_count": null,
   "outputs": [],
   "metadata": {
    "datalore": {
     "node_id": "gQWV9uG2KFl4QjqPn3heBl",
     "type": "CODE",
     "hide_input_from_viewers": false,
     "hide_output_from_viewers": false
    }
   }
  },
  {
   "cell_type": "markdown",
   "source": [
    "# Sheet 2"
   ],
   "attachments": {},
   "metadata": {
    "datalore": {
     "node_id": "Sheet 2",
     "type": "MD",
     "hide_input_from_viewers": false,
     "hide_output_from_viewers": false,
     "sheet_delimiter": true
    }
   }
  },
  {
   "cell_type": "code",
   "source": [
    "import re\n",
    "\n",
    "re.sub(' +', ' ', 'The     quick brown    fox')"
   ],
   "execution_count": null,
   "outputs": [],
   "metadata": {
    "datalore": {
     "node_id": "mZghZG3qB7pO2XGNy7Codz",
     "type": "CODE",
     "hide_input_from_viewers": false,
     "hide_output_from_viewers": false
    }
   }
  },
  {
   "cell_type": "code",
   "source": [
    "d = {'name': ['a', 'a', 'b', 'b', 'b', 'c', 'd', 'e'], 'amount': [2, 5, 2, 3, 7, 2, 4, 1]}\n",
    "df = pd.DataFrame(data=d)\n",
    "\n",
    "df_per_category = df.groupby(['name']) \\\n",
    "                             .agg({'amount': ['count',  'sum']}) \\\n",
    "                             .sort_values(by=[('amount', 'count')], ascending=False)\n",
    "\n",
    "df_per_category[('amount', 'sum')].plot.barh()\n",
    "df_per_category"
   ],
   "execution_count": null,
   "outputs": [],
   "metadata": {
    "datalore": {
     "node_id": "cposdSpEKT11tUrBErqEeZ",
     "type": "CODE",
     "hide_input_from_viewers": false,
     "hide_output_from_viewers": false
    }
   }
  },
  {
   "cell_type": "code",
   "source": [
    "aggregates = {\n",
    "    5: 0,\n",
    "    10: 0,\n",
    "    50: 0,\n",
    "    100: 0,\n",
    "}\n",
    "\n",
    "for a in aggregates:\n",
    "    print(a, aggregates[a])"
   ],
   "execution_count": null,
   "outputs": [],
   "metadata": {
    "datalore": {
     "node_id": "muj58F2YREYeWrBFGb7Zo7",
     "type": "CODE",
     "hide_input_from_viewers": false,
     "hide_output_from_viewers": false
    }
   }
  },
  {
   "cell_type": "code",
   "source": [
    "# 7.58 <= 50 and not 7.58 > 50\n",
    "# 50 and smaller\n",
    "\n",
    "# 7.58 <= 50 #and not 7.58 > 50\n",
    "\n",
    "7.58 > 50"
   ],
   "execution_count": null,
   "outputs": [],
   "metadata": {
    "datalore": {
     "node_id": "TEqbfLEAZyGJIzpes3imUv",
     "type": "CODE",
     "hide_input_from_viewers": false,
     "hide_output_from_viewers": false
    }
   }
  }
 ],
 "metadata": {
  "kernelspec": {
   "name": "python3",
   "language": "python",
   "display_name": "Python 3 (ipykernel)"
  },
  "datalore": {
   "version": 1,
   "computation_mode": "JUPYTER",
   "package_manager": "pip",
   "base_environment": "default",
   "packages": [
    {
     "name": "matplotlib",
     "version": "3.5.1",
     "source": "PIP"
    }
   ]
  }
 },
 "nbformat": 4,
 "nbformat_minor": 4
}
