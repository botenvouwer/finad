{
 "cells": [
  {
   "cell_type": "code",
   "execution_count": 4,
   "metadata": {
    "collapsed": true
   },
   "outputs": [
    {
     "name": "stdout",
     "output_type": "stream",
     "text": [
      "Loaded 5 accounts for 2022\n"
     ]
    },
    {
     "data": {
      "text/plain": "<Figure size 960x480 with 0 Axes>"
     },
     "metadata": {},
     "output_type": "display_data"
    }
   ],
   "source": [
    "from fin.LoadKnab import load_knab\n",
    "%reload_ext autoreload\n",
    "%autoreload 2\n",
    "\n",
    "from fin.AccountPerYear import AccountsPerYear, AccountPerYear\n",
    "import os\n",
    "import sys\n",
    "module_path = os.path.abspath(os.path.join('..'))\n",
    "if module_path not in sys.path:\n",
    "    sys.path.append(module_path)\n",
    "\n",
    "import numpy as np\n",
    "import matplotlib.pyplot as plt\n",
    "from matplotlib.pyplot import figure\n",
    "\n",
    "plt.style.use('dark_background')\n",
    "figure(figsize=(16, 8), dpi=60)\n",
    "plt.rcParams[\"figure.figsize\"] = (18,5)\n",
    "\n",
    "year = 2022\n",
    "accountsPerYear : AccountsPerYear = load_knab(f'./data/{year}')\n",
    "\n",
    "print(f\"Loaded {len(accountsPerYear)} accounts for {year}\")"
   ]
  }
 ],
 "metadata": {
  "kernelspec": {
   "display_name": "Python 3",
   "language": "python",
   "name": "python3"
  },
  "language_info": {
   "codemirror_mode": {
    "name": "ipython",
    "version": 2
   },
   "file_extension": ".py",
   "mimetype": "text/x-python",
   "name": "python",
   "nbconvert_exporter": "python",
   "pygments_lexer": "ipython2",
   "version": "2.7.6"
  }
 },
 "nbformat": 4,
 "nbformat_minor": 0
}
